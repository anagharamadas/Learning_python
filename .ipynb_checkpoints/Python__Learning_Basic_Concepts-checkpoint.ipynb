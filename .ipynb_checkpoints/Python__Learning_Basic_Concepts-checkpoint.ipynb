{
  "nbformat": 4,
  "nbformat_minor": 0,
  "metadata": {
    "colab": {
      "provenance": []
    },
    "kernelspec": {
      "name": "python3",
      "display_name": "Python 3"
    },
    "language_info": {
      "name": "python"
    }
  },
  "cells": [
    {
      "cell_type": "markdown",
      "source": [
        "## Learning Basic Python Concepts with Practical Examples\n",
        "\n",
        "*   Variables, Data Types (int, float, string,bool)\n",
        "*   Operators (arithmetic, comparison, logical, assignment)\n",
        "*   Conditional Statements (if, elif, else)\n",
        "*   Loops (for, while)\n",
        "*   Functions (definition, arguments, returns, scope)\n",
        "*   Input/Output\n",
        "*   Exception Handling\n",
        "*   Modules and Packages\n",
        "*   File Handling\n",
        "\n",
        "\n",
        "\n",
        "\n",
        "\n",
        "\n",
        "\n",
        "\n",
        "\n",
        "\n",
        "\n",
        "\n",
        "\n",
        "\n",
        "\n",
        "\n",
        "\n",
        "\n"
      ],
      "metadata": {
        "id": "acmVlE1vu4ph"
      }
    },
    {
      "cell_type": "markdown",
      "source": [
        "# Question 1: Grade Calculator with Input Validation\n",
        "**Concepts Covered:**\n",
        "Variables, Data Types, Input/Output, Conditional Statements, Operators, Exception Handling\n",
        "\n",
        "**Problem:**\n",
        "Create a program that takes a student's test scores as input, calculates their average, and assigns a letter grade. Handle invalid inputs gracefully."
      ],
      "metadata": {
        "id": "13k-1j7sv1ws"
      }
    },
    {
      "cell_type": "code",
      "execution_count": 1,
      "metadata": {
        "id": "dr8l0DwaufEm"
      },
      "outputs": [],
      "source": [
        "# Requirements:\n",
        "# - Accept 5 test scores from user input\n",
        "# - Calculate average (float)\n",
        "# - Assign letter grade: A (90+), B (80-89), C (70-79), D (60-69), F (<60)\n",
        "# - Handle non-numeric inputs with exception handling\n",
        "# - Display the average and grade\n"
      ]
    },
    {
      "cell_type": "code",
      "source": [
        "def main():\n",
        "  \"\"\"Main function to run the program\"\"\"\n",
        "  while True:\n",
        "    # To get input from the user\n",
        "    try:\n",
        "      test_scores = list(map(int,input(\"Enter 5 test scores in the range (0-100) separated by spaces:\").split()))\n",
        "      if len(test_scores) != 5:\n",
        "        raise IndexError\n",
        "      for i in range(len(test_scores)):\n",
        "        if test_scores[i]<0 or test_scores[i]>100:\n",
        "          raise ValueError\n",
        "\n",
        "      # To calculate average score and grade\n",
        "      average, grade = Avg_and_Grade(test_scores)\n",
        "      print(\"Average Score = \", average)\n",
        "      print(\"Grade = \", grade)\n",
        "      break\n",
        "\n",
        "    except (ValueError, IndexError) as e:\n",
        "      if isinstance(e, ValueError):\n",
        "        print(\"Invalid input. Please enter only integers between 0 and 100.\")\n",
        "      elif isinstance(e, IndexError):\n",
        "        print(\"Invalid index. Please enter exactly 5 scores\")\n",
        "\n",
        "  pass\n",
        "\n"
      ],
      "metadata": {
        "id": "wtlr8SyDwE1U"
      },
      "execution_count": 2,
      "outputs": []
    },
    {
      "cell_type": "code",
      "source": [
        "def Avg_and_Grade(test_scores) -> list:\n",
        "  \"\"\"Calculate average and assign grades\"\"\"\n",
        "\n",
        "  average = float(sum(test_scores)/5)\n",
        "  if average >= 90:\n",
        "    grade = 'A'\n",
        "  elif average >= 80:\n",
        "    grade = 'B'\n",
        "  elif average >= 70:\n",
        "    grade = 'C'\n",
        "  elif average >= 60:\n",
        "    grade = 'D'\n",
        "  else:\n",
        "    grade = 'F'\n",
        "  answer = []\n",
        "  answer.append(average)\n",
        "  answer.append(grade)\n",
        "  return answer\n"
      ],
      "metadata": {
        "id": "OJn7fyd30xVR"
      },
      "execution_count": 3,
      "outputs": []
    },
    {
      "cell_type": "code",
      "source": [
        "if __name__ == \"__main__\":\n",
        "  main()"
      ],
      "metadata": {
        "colab": {
          "base_uri": "https://localhost:8080/"
        },
        "id": "jMkr1a3reObS",
        "outputId": "8301f95b-2ce2-4ae0-c2cc-9ca4bd7b2c59"
      },
      "execution_count": 4,
      "outputs": [
        {
          "output_type": "stream",
          "name": "stdout",
          "text": [
            "Enter 5 test scores in the range (0-100) separated by spaces:45 78 92 88 90\n",
            "Average Score =  78.6\n",
            "Grade =  C\n"
          ]
        }
      ]
    },
    {
      "cell_type": "markdown",
      "source": [
        "# Question 2: Password Strength Checker\n",
        "\n",
        "**Concepts Covered:** Functions, String Data Types, Logical Operators, Conditional Statements, Loops\n",
        "\n",
        "**Problem:**\n",
        "Write a function that checks password strength and returns a boolean indicating if it's strong enough.\n",
        "\n"
      ],
      "metadata": {
        "id": "1hjhSU-zuQcV"
      }
    },
    {
      "cell_type": "code",
      "source": [
        "# Requirements:\n",
        "# - Function should accept a password string\n",
        "# - Check: length >= 8, contains uppercase, lowercase, digit, special character\n",
        "# - Use logical operators to combine conditions\n",
        "# - Return True/False and explanation\n",
        "# - Test with multiple passwords using a loop\n"
      ],
      "metadata": {
        "id": "nYDkVygLugpz"
      },
      "execution_count": 8,
      "outputs": []
    },
    {
      "cell_type": "code",
      "source": [
        "from getpass import getpass\n",
        "def main():\n",
        "  \"\"\"Main function to run the program\"\"\"\n",
        "\n",
        "  while True:\n",
        "    password_input = getpass(\"Password: \")\n",
        "    flag = is_Strong(password_input)\n",
        "    if flag == True:\n",
        "      print(\"Password is strong enough\")\n",
        "      break\n",
        "    else:\n",
        "      print(\"Password is not strong enough\")\n",
        "\n",
        "\n"
      ],
      "metadata": {
        "id": "widXiE2CY-AZ"
      },
      "execution_count": 9,
      "outputs": []
    },
    {
      "cell_type": "code",
      "source": [
        "import re\n",
        "def is_Strong(pw_input:str) -> bool:\n",
        "\n",
        "  if len(pw_input) < 8:\n",
        "    print(\"Password must be at least 8 characters long\")\n",
        "    return False\n",
        "  has_upper = any(ch.isupper() for ch in pw_input)\n",
        "  has_lower = any(ch.islower() for ch in pw_input)\n",
        "  has_special_character = re.search(r\"[^\\w\\s]\", pw_input) is not None\n",
        "  if has_upper and has_lower and has_special_character:\n",
        "    return True\n",
        "  else:\n",
        "    print(\"Add atleast one lowercase, one uppercase, and one special character\")\n",
        "    return False\n",
        "\n"
      ],
      "metadata": {
        "id": "io1hIpsjc6ph"
      },
      "execution_count": 10,
      "outputs": []
    },
    {
      "cell_type": "code",
      "source": [
        "if __name__ == \"__main__\":\n",
        "  main()"
      ],
      "metadata": {
        "colab": {
          "base_uri": "https://localhost:8080/"
        },
        "id": "BibN34ypepmt",
        "outputId": "1a488e79-100d-4b2f-90c2-71b9cb13c0cb"
      },
      "execution_count": 13,
      "outputs": [
        {
          "output_type": "stream",
          "name": "stdout",
          "text": [
            "Password: ··········\n",
            "Add atleast one lowercase, one uppercase, and one special character\n",
            "Password is not strong enough\n",
            "Password: ··········\n",
            "Password is strong enough\n"
          ]
        }
      ]
    },
    {
      "cell_type": "code",
      "source": [],
      "metadata": {
        "id": "-639K14Fe1ZZ"
      },
      "execution_count": 7,
      "outputs": []
    }
  ]
}